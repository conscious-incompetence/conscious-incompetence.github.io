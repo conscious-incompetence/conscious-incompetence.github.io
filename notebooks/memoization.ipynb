{
 "metadata": {
  "name": "memoization.ipynb"
 },
 "nbformat": 3,
 "nbformat_minor": 0,
 "worksheets": [
  {
   "cells": [
    {
     "cell_type": "markdown",
     "metadata": {},
     "source": [
      "<script type=\"text/javascript\"\n",
      "  src=\"http://cdn.mathjax.org/mathjax/latest/MathJax.js?config=TeX-AMS-MML_HTMLorMML\">\n",
      "</script>\n",
      "<style>\n",
      "   div.spacer {\n",
      "      /*height: 700px;*/\n",
      "   }\n",
      "   \n",
      "   .text_cell_render p {\n",
      "      font-size: large;\n",
      "   }\n",
      "   \n",
      "   .MathJax_Display {\n",
      "     text-align: left;\n",
      "   }\n",
      "   \n",
      "   .text_cell_render h1 {\n",
      "      margin: 0;\n",
      "   }\n",
      "</style>"
     ]
    },
    {
     "cell_type": "markdown",
     "metadata": {},
     "source": [
      "# Memoization"
     ]
    },
    {
     "cell_type": "markdown",
     "metadata": {},
     "source": [
      "## Recursive Fibonacci\n",
      "Write a Python function that computes the $n^{\\mathrm{th}}$ fibonacci number, where:\n",
      "$$\n",
      "\\begin{align*}\n",
      "\\mathrm{fib}(1) &= 1 \\\\\n",
      "\\mathrm{fib}(2) &= 1 \\\\\n",
      "\\mathrm{fib}(n) &= \\mathrm{fib}(n-1) + \\mathrm{fib}(n-2) \n",
      "\\end{align*}\n",
      "$$\n",
      "for all $n > 0$."
     ]
    },
    {
     "cell_type": "code",
     "collapsed": false,
     "input": [
      "def fib(n):\n",
      "    \"\"\"\n",
      "    Given a positive integer n, returns the nth fibonacci number, where\n",
      "         fib(1) = fib(2) = 1\n",
      "         fib(n) = fib(n-1) + fib(n-2)\n",
      "    \"\"\"\n",
      "    \n",
      "    assert n > 0\n",
      "    \n",
      "    if n==1 or n==2:\n",
      "        return 1\n",
      "    \n",
      "    return fib(n-1) + fib(n-2)"
     ],
     "language": "python",
     "metadata": {},
     "outputs": [],
     "prompt_number": 1
    },
    {
     "cell_type": "code",
     "collapsed": false,
     "input": [
      "help(fib)"
     ],
     "language": "python",
     "metadata": {},
     "outputs": [
      {
       "output_type": "stream",
       "stream": "stdout",
       "text": [
        "Help on function fib in module __main__:\n",
        "\n",
        "fib(n)\n",
        "    Given a positive integer n, returns the nth fibonacci number, where\n",
        "         fib(1) = fib(2) = 1\n",
        "         fib(n) = fib(n-1) + fib(n-2)\n",
        "\n"
       ]
      }
     ],
     "prompt_number": 2
    },
    {
     "cell_type": "code",
     "collapsed": false,
     "input": [
      "map(fib, range(1,10))"
     ],
     "language": "python",
     "metadata": {},
     "outputs": [
      {
       "metadata": {},
       "output_type": "pyout",
       "prompt_number": 3,
       "text": [
        "[1, 1, 2, 3, 5, 8, 13, 21, 34]"
       ]
      }
     ],
     "prompt_number": 3
    },
    {
     "cell_type": "markdown",
     "metadata": {},
     "source": [
      "---\n",
      "<div class=\"spacer\" />"
     ]
    },
    {
     "cell_type": "markdown",
     "metadata": {},
     "source": [
      "## Timing and Plotting\n",
      "We can use the `timeit` module to measure how long it takes things to run."
     ]
    },
    {
     "cell_type": "code",
     "collapsed": false,
     "input": [
      "# time how long it takes for fib(1) \u2026 fib(9) to run\n",
      "from timeit import timeit\n",
      "fibTrials = range(1, 10)\n",
      "recursiveFibResults = [timeit(lambda: fib(trial)) for trial in fibTrials]"
     ],
     "language": "python",
     "metadata": {},
     "outputs": [],
     "prompt_number": 3
    },
    {
     "cell_type": "markdown",
     "metadata": {},
     "source": [
      "We can use the `pylab` module to make graphs."
     ]
    },
    {
     "cell_type": "code",
     "collapsed": false,
     "input": [
      "# plot the results\n",
      "import pylab\n",
      "axes = pylab.axes()\n",
      "axes.set_xlabel('n')\n",
      "axes.set_ylabel('Time for fib(n) in seconds')\n",
      "axes.spines['top'].set_color('none')\n",
      "axes.spines['right'].set_color('none')\n",
      "axes.xaxis.tick_bottom()\n",
      "axes.yaxis.tick_left()\n",
      "axes.plot(fibTrials, recursiveFibResults, color='red', marker='o')\n",
      "axes.legend(['recursive'], loc=2) "
     ],
     "language": "python",
     "metadata": {},
     "outputs": [
      {
       "metadata": {},
       "output_type": "pyout",
       "prompt_number": 5,
       "text": [
        "<matplotlib.legend.Legend at 0x10b4b9410>"
       ]
      },
      {
       "metadata": {},
       "output_type": "display_data",
       "png": "[encoded data removed]",
       "text": [
        "<matplotlib.figure.Figure at 0x10b47f590>"
       ]
      }
     ],
     "prompt_number": 5
    },
    {
     "cell_type": "markdown",
     "metadata": {},
     "source": [
      "---"
     ]
    },
    {
     "cell_type": "markdown",
     "metadata": {},
     "source": [
      "<div class=\"spacer\"></div>"
     ]
    },
    {
     "cell_type": "markdown",
     "metadata": {},
     "source": [
      "# Memoization\n",
      "Memoization saves time by caching the results of function calls."
     ]
    },
    {
     "cell_type": "code",
     "collapsed": false,
     "input": [
      "def memo_fib(n, cache = {}):\n",
      "    \"\"\"\n",
      "    Given a positive integer n, returns the nth fibonacci number, where\n",
      "         fib(1) = fib(2) = 1\n",
      "         fib(n) = fib(n-1) + fib(n-2)\n",
      "         \n",
      "    This function memoizes the results.\n",
      "    \"\"\"\n",
      "    assert n > 0\n",
      "    \n",
      "    if n==1 or n==2:\n",
      "        return 1\n",
      "    \n",
      "    if n not in cache:\n",
      "        cache[n] = memo_fib(n-1) + memo_fib(n-2)\n",
      "        \n",
      "    return cache[n]"
     ],
     "language": "python",
     "metadata": {},
     "outputs": [],
     "prompt_number": 6
    },
    {
     "cell_type": "code",
     "collapsed": false,
     "input": [
      "memoizedFibResults = [timeit(lambda: memo_fib(trial)) for trial in fibTrials]"
     ],
     "language": "python",
     "metadata": {},
     "outputs": [],
     "prompt_number": 7
    },
    {
     "cell_type": "code",
     "collapsed": false,
     "input": [
      "axes = pylab.axes()\n",
      "axes.set_xlabel('n')\n",
      "axes.set_ylabel('Time for fib(n) in seconds')\n",
      "axes.spines['top'].set_color('none')\n",
      "axes.spines['right'].set_color('none')\n",
      "axes.xaxis.tick_bottom()\n",
      "axes.yaxis.tick_left()\n",
      "axes.plot(fibTrials, recursiveFibResults, color='red', marker='o')\n",
      "axes.plot(fibTrials, memoizedFibResults, color='black', marker='o')\n",
      "axes.legend(['recursive', 'memoized'], loc=2) "
     ],
     "language": "python",
     "metadata": {},
     "outputs": [
      {
       "metadata": {},
       "output_type": "pyout",
       "prompt_number": 8,
       "text": [
        "<matplotlib.legend.Legend at 0x10b6b8710>"
       ]
      },
      {
       "metadata": {},
       "output_type": "display_data",
       "png": "[encoded data removed]",
       "text": [
        "<matplotlib.figure.Figure at 0x10b4d1bd0>"
       ]
      }
     ],
     "prompt_number": 8
    },
    {
     "cell_type": "markdown",
     "metadata": {},
     "source": [
      "---"
     ]
    },
    {
     "cell_type": "markdown",
     "metadata": {},
     "source": [
      "<div class=\"spacer\"></div>"
     ]
    },
    {
     "cell_type": "markdown",
     "metadata": {},
     "source": [
      "# Generic Memoization\n",
      "Let's factor out memoization as a function &mdash; a **higher-order function**!"
     ]
    },
    {
     "cell_type": "code",
     "collapsed": false,
     "input": [
      "def memoize(f):\n",
      "    \"\"\"\n",
      "    A wrapper that takes a function f and returns a memoized version of that function.\n",
      "    For the sake of simplicity, we assume that f takes one argument. \n",
      "    \"\"\"\n",
      "    \n",
      "    cache = {}\n",
      "\n",
      "    def wrapper_f(arg):\n",
      "        if arg not in cache:\n",
      "            cache[arg] = f(arg)\n",
      "        return cache[arg]\n",
      "    \n",
      "    return wrapper_f"
     ],
     "language": "python",
     "metadata": {},
     "outputs": [],
     "prompt_number": 7
    },
    {
     "cell_type": "code",
     "collapsed": false,
     "input": [
      "fib = memoize(fib) # re-bind fib to its memoized version "
     ],
     "language": "python",
     "metadata": {},
     "outputs": [],
     "prompt_number": 17
    },
    {
     "cell_type": "code",
     "collapsed": false,
     "input": [
      "fibTrials = range(1, 10)\n",
      "fibResults = [timeit(lambda: fib(trial)) for trial in fibTrials]\n",
      "\n",
      "axes = pylab.axes()\n",
      "axes.set_xlabel('n')\n",
      "axes.set_ylabel('Time for fib(n) in seconds')\n",
      "axes.spines['top'].set_color('none')\n",
      "axes.spines['right'].set_color('none')\n",
      "axes.xaxis.tick_bottom()\n",
      "axes.yaxis.tick_left()\n",
      "axes.plot(fibTrials, fibResults, color='red', marker='o')\n",
      "axes.legend(['memoized'], loc=2) "
     ],
     "language": "python",
     "metadata": {},
     "outputs": [
      {
       "metadata": {},
       "output_type": "pyout",
       "prompt_number": 18,
       "text": [
        "<matplotlib.legend.Legend at 0x10bdab710>"
       ]
      },
      {
       "metadata": {},
       "output_type": "display_data",
       "png": "[encoded data removed]",
       "text": [
        "<matplotlib.figure.Figure at 0x10bd82e50>"
       ]
      }
     ],
     "prompt_number": 18
    },
    {
     "cell_type": "markdown",
     "metadata": {},
     "source": [
      "---"
     ]
    },
    {
     "cell_type": "markdown",
     "metadata": {},
     "source": [
      "<div class=\"spacer\" />"
     ]
    },
    {
     "cell_type": "markdown",
     "metadata": {},
     "source": [
      "# Function Decorators\n",
      "In Python, a function decorator is syntactic sugar. \n",
      "\n",
      "This code:\n",
      "```\n",
      "@decoratorName\n",
      "def f(\u2026):\n",
      "   \u2026\n",
      "```\n",
      "is equivalent to this code:\n",
      "```\n",
      "def f(\u2026):\n",
      "   \u2026\n",
      "   \n",
      "f = decoratorName(f)\n",
      "```\n",
      "\n",
      "Let's use our generic memoization to decorate our original definition of `fib`:"
     ]
    },
    {
     "cell_type": "code",
     "collapsed": false,
     "input": [
      "#@memoize\n",
      "def fib(n):\n",
      "    \"\"\"\n",
      "    Given a positive integer n, returns the nth fibonacci number, where\n",
      "         fib(1) = fib(2) = 1\n",
      "         fib(n) = fib(n-1) + fib(n-2)\n",
      "    \"\"\"\n",
      "    \n",
      "    assert n > 0\n",
      "    \n",
      "    if n == 1 or n == 2:\n",
      "        return 1\n",
      "    \n",
      "    else:\n",
      "        return fib(n-1) + fib(n-2)"
     ],
     "language": "python",
     "metadata": {},
     "outputs": [],
     "prompt_number": 11
    },
    {
     "cell_type": "code",
     "collapsed": false,
     "input": [
      "fibTrials = range(1, 10)\n",
      "fibResults = [timeit(lambda: fib(trial)) for trial in fibTrials]\n",
      "\n",
      "axes = pylab.axes()\n",
      "axes.set_xlabel('n')\n",
      "axes.set_ylabel('Time for fib(n) in seconds')\n",
      "axes.spines['top'].set_color('none')\n",
      "axes.spines['right'].set_color('none')\n",
      "axes.xaxis.tick_bottom()\n",
      "axes.yaxis.tick_left()\n",
      "axes.plot(fibTrials, fibResults, color='red', marker='o')\n",
      "axes.legend(['memoized'], loc=2) "
     ],
     "language": "python",
     "metadata": {},
     "outputs": [
      {
       "metadata": {},
       "output_type": "pyout",
       "prompt_number": 12,
       "text": [
        "<matplotlib.legend.Legend at 0x10b56fdd0>"
       ]
      },
      {
       "metadata": {},
       "output_type": "display_data",
       "png": "[encoded data removed]",
       "text": [
        "<matplotlib.figure.Figure at 0x10b47e910>"
       ]
      }
     ],
     "prompt_number": 12
    },
    {
     "cell_type": "markdown",
     "metadata": {},
     "source": [
      "---\n",
      "<div class=\"spacer\"/>"
     ]
    },
    {
     "cell_type": "markdown",
     "metadata": {},
     "source": [
      "# The `wraps` decorator\n",
      "Look what happens when we try to get help for our memoized fib function:"
     ]
    },
    {
     "cell_type": "code",
     "collapsed": false,
     "input": [
      "help(fib)"
     ],
     "language": "python",
     "metadata": {},
     "outputs": [
      {
       "output_type": "stream",
       "stream": "stdout",
       "text": [
        "Help on function wrapper_f in module __main__:\n",
        "\n",
        "wrapper_f(arg)\n",
        "\n"
       ]
      }
     ],
     "prompt_number": 21
    },
    {
     "cell_type": "markdown",
     "metadata": {},
     "source": [
      "That's not very useful :(. But no worries, we can use _another_ decorator to fix it. This decorator comes with Python:"
     ]
    },
    {
     "cell_type": "code",
     "collapsed": false,
     "input": [
      "from functools import wraps    # the wraps decorator is now available to us"
     ],
     "language": "python",
     "metadata": {},
     "outputs": [],
     "prompt_number": 22
    },
    {
     "cell_type": "markdown",
     "metadata": {},
     "source": [
      "We can use the `wraps` decorator when we define our _own_ decorators:"
     ]
    },
    {
     "cell_type": "code",
     "collapsed": false,
     "input": [
      "def memoize(f):\n",
      "    \"\"\"\n",
      "    A wrapper that takes a function f and returns a memoized version of that function.\n",
      "    For the sake of simplicity, we assume that f takes one argument. \n",
      "    \"\"\"\n",
      "    \n",
      "    cache = {}\n",
      "\n",
      "    @wraps(f)   # this is all we need to say! \n",
      "    def wrapper_f(arg):\n",
      "        if arg not in cache:\n",
      "            cache[arg] = f(arg)\n",
      "        return cache[arg]\n",
      "    \n",
      "    return wrapper_f"
     ],
     "language": "python",
     "metadata": {},
     "outputs": [],
     "prompt_number": 23
    },
    {
     "cell_type": "markdown",
     "metadata": {},
     "source": [
      "Now, let's repeat the definition of memoized fibonacci, this time using our updated version of `memoize`."
     ]
    },
    {
     "cell_type": "code",
     "collapsed": false,
     "input": [
      "@memoize\n",
      "def fib(n):\n",
      "    \"\"\"\n",
      "    Given a positive integer n, returns the nth fibonacci number, where\n",
      "         fib(1) = fib(2) = 1\n",
      "         fib(n) = fib(n-1) + fib(n-2)\n",
      "    \"\"\"\n",
      "    \n",
      "    assert n > 0\n",
      "    \n",
      "    if n == 1 or n == 2:\n",
      "        return 1\n",
      "    \n",
      "    else:\n",
      "        return fib(n-1) + fib(n-2)"
     ],
     "language": "python",
     "metadata": {},
     "outputs": [],
     "prompt_number": 24
    },
    {
     "cell_type": "markdown",
     "metadata": {},
     "source": [
      "Now check out what happens if we want help."
     ]
    },
    {
     "cell_type": "code",
     "collapsed": false,
     "input": [
      "help(fib)"
     ],
     "language": "python",
     "metadata": {},
     "outputs": [
      {
       "output_type": "stream",
       "stream": "stdout",
       "text": [
        "Help on function fib in module __main__:\n",
        "\n",
        "fib(arg)\n",
        "    Given a positive integer n, returns the nth fibonacci number, where\n",
        "         fib(1) = fib(2) = 1\n",
        "         fib(n) = fib(n-1) + fib(n-2)\n",
        "\n"
       ]
      }
     ],
     "prompt_number": 25
    }
   ],
   "metadata": {}
  }
 ]
}